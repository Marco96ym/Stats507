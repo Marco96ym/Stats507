{
 "cells": [
  {
   "cell_type": "markdown",
   "id": "3d4fd704-bf4a-47de-b7e8-aa8c3ad51ca3",
   "metadata": {},
   "source": [
    "# Question 0 - Markdown warmup"
   ]
  },
  {
   "cell_type": "markdown",
   "id": "80c71f50-27c8-4e8a-927b-eff07b44de99",
   "metadata": {},
   "source": [
    "##### This is _question 0_ for [problem set 1](https://jbhender.github.io/Stats507/F21/ps/ps1.html) of [Stats 507](https://jbhender.github.io/Stats507/F21/)"
   ]
  },
  {
   "cell_type": "markdown",
   "id": "156a25d0-6093-49ea-94e5-da89ef47cc53",
   "metadata": {
    "tags": []
   },
   "source": [
    "> Question 0 is about Markdown"
   ]
  },
  {
   "cell_type": "markdown",
   "id": "5b49564c-7314-4376-8d70-3f91bce9119d",
   "metadata": {},
   "source": [
    "##### The next question is about the **Fibonnaci sequence**, $$F_n = F_(n-2) + F_(n-1)$$. In part **a** we will define a Python function `fib_rec()`.\n",
    "##### Below is a ..."
   ]
  },
  {
   "cell_type": "markdown",
   "id": "c79a731f-37aa-4320-b42a-b856fde33820",
   "metadata": {},
   "source": [
    "### Level 3 Header"
   ]
  },
  {
   "cell_type": "markdown",
   "id": "fb9248f7-d964-434c-bf63-c69de2dc7d41",
   "metadata": {},
   "source": [
    "##### Next, we can make a bulleted list:\n",
    "+ Item 1\n",
    "\n",
    "    - detail 1\n",
    "    - detail 2\n",
    "+ Item 2\n",
    "\n",
    "##### Finally, we can make an enumerated list:\n",
    "\n",
    "    a. Item 1  \n",
    "    b. Item 2  \n",
    "    c. Item 3  "
   ]
  },
  {
   "cell_type": "markdown",
   "id": "25840eda-27ea-4e8d-913f-9ac5121777b8",
   "metadata": {},
   "source": [
    "# Question 1 - Fibonnaci Sequence"
   ]
  },
  {
   "cell_type": "markdown",
   "id": "cefcca8d-4ab0-42a7-8abe-d90825247454",
   "metadata": {},
   "source": [
    "a. "
   ]
  },
  {
   "cell_type": "code",
   "execution_count": 53,
   "id": "eea2a432-1fa9-4d89-95e1-0ffea963ad75",
   "metadata": {},
   "outputs": [],
   "source": [
    "# recursive version:\n",
    "def fib_rec(n):\n",
    "    if (n == 0):\n",
    "        return 0\n",
    "    if (n == 1):\n",
    "        return 1\n",
    "    return fib_rec(n - 2) + fib_rec(n - 1)"
   ]
  },
  {
   "cell_type": "markdown",
   "id": "de084f20-f987-42ea-9613-cdb1765c0034",
   "metadata": {},
   "source": [
    "b."
   ]
  },
  {
   "cell_type": "code",
   "execution_count": 54,
   "id": "188ae69a-8c60-41d3-8343-811f61b47fd8",
   "metadata": {},
   "outputs": [],
   "source": [
    "# for loop version:\n",
    "def fib_for(n):\n",
    "    fib_0 = 0.0\n",
    "    fib_1 = 1.0\n",
    "    if (n == 0):\n",
    "        return fib_0\n",
    "    if (n == 1):\n",
    "        return fib_1\n",
    "    else:\n",
    "        for i in range(2, n+1):\n",
    "            fib_val = fib_0 + fib_1\n",
    "            fib_0 = fib_1\n",
    "            fib_1 = fib_val\n",
    "        return fib_val    "
   ]
  },
  {
   "cell_type": "markdown",
   "id": "a3b87cc1-7085-4533-a841-69993bfdfcc6",
   "metadata": {},
   "source": [
    "c."
   ]
  },
  {
   "cell_type": "code",
   "execution_count": 55,
   "id": "32bce3bc-d39a-487f-a5ff-7c5a96541c61",
   "metadata": {},
   "outputs": [],
   "source": [
    "# while loop version:\n",
    "def fib_whl(n):\n",
    "    fib_0 = 0.0\n",
    "    fib_1 = 1.0\n",
    "    if (n == 0):\n",
    "        return fib_0\n",
    "    if (n == 1):\n",
    "        return fib_1\n",
    "    i = 2\n",
    "    while (i <= n):\n",
    "            fib_val = fib_0 + fib_1\n",
    "            fib_0 = fib_1\n",
    "            fib_1 = fib_val\n",
    "            i = i + 1\n",
    "    return fib_val"
   ]
  },
  {
   "cell_type": "markdown",
   "id": "9dbac03e-4807-46f0-87d6-c277a5cb9f55",
   "metadata": {},
   "source": [
    "d."
   ]
  },
  {
   "cell_type": "code",
   "execution_count": 56,
   "id": "7a2ce250-1a56-4611-a662-17a52664c5e0",
   "metadata": {},
   "outputs": [],
   "source": [
    "# rounding version:\n",
    "import math\n",
    "def fib_rnd(n):\n",
    "    phi = (1 + math.sqrt(5))/2\n",
    "    return round(phi**n / math.sqrt(5))"
   ]
  },
  {
   "cell_type": "markdown",
   "id": "20c0ff0e-564a-4137-bb05-87fc719e5a01",
   "metadata": {},
   "source": [
    "e."
   ]
  },
  {
   "cell_type": "code",
   "execution_count": 57,
   "id": "b95cf42a-4eee-4b2b-b2b7-8619d9ba7d65",
   "metadata": {},
   "outputs": [],
   "source": [
    "# truncation version:\n",
    "def fib_flr(n):\n",
    "    phi = (1 + math.sqrt(5))/2\n",
    "    return math.floor(phi**n / math.sqrt(5) + 1/2)"
   ]
  },
  {
   "cell_type": "markdown",
   "id": "def3241d-a3e5-49c5-a34f-dda76149e1a7",
   "metadata": {},
   "source": [
    "f."
   ]
  },
  {
   "cell_type": "code",
   "execution_count": null,
   "id": "69cb2ebf-8e5b-4607-a692-f5a3e3ff7e48",
   "metadata": {},
   "outputs": [],
   "source": [
    "# comparison of median computation time of functions above:\n",
    "import time\n",
    "import statistics\n",
    "from tabulate import tabulate\n",
    "n_seq = [5*i for i in range(11)]\n",
    "func_list = [fib_rec, fib_for, fib_whl, fib_rnd, fib_flr]\n",
    "\n",
    "# this function return a list with median computing time of each \n",
    "# fibonnaci function given a list of n in n_seq\n",
    "def compute_median_time():\n",
    "    med_time_list = []\n",
    "    for func in func_list:\n",
    "        time_list = []\n",
    "        for n in n_seq:\n",
    "            start_time = time.time()\n",
    "            fib_data = func(n)\n",
    "            time_list.append(time.time() - start_time)\n",
    "        med_time_list.append(statistics.median(time_list))\n",
    "    return med_time_list\n",
    "\n",
    "# creating a dictionary whose keys are names of fibonnaci function\n",
    "# and whose rows are median computing time\n",
    "dict_func_time = {'fib_rec':None, 'fib_for':None, 'fib_whl':None, 'fib_rnd':None, 'fib_flr':None}\n",
    "med_time_list = compute_median_time()\n",
    "i = 0\n",
    "for k,v in dict_func_time.items():\n",
    "    dict_func_time[k] = med_time_list[i]\n",
    "    i = i + 1\n",
    "    \n",
    "# convert dict to a table and show it\n",
    "table_func_med_time = tabulate(dict_func_time, tablefmt=\"fancy_grid\") \n",
    "print(table_func_med_time)\n",
    "\n",
    "# I interruped the computing process since it takes very long time"
   ]
  },
  {
   "cell_type": "markdown",
   "id": "e117d088-a7c4-4068-b1de-702bee1f0df8",
   "metadata": {},
   "source": [
    "# Question 2 - Pascal’s Triangle"
   ]
  },
  {
   "cell_type": "markdown",
   "id": "ac984730-b757-4a75-8fa4-6fff677d5fe3",
   "metadata": {},
   "source": [
    "a."
   ]
  },
  {
   "cell_type": "code",
   "execution_count": 17,
   "id": "63b13402-a9a1-458a-a24f-1dc97c3c420c",
   "metadata": {},
   "outputs": [],
   "source": [
    "# binomial coefficient function \n",
    "def bino_coeff(n, k):\n",
    "    if (k == 0):\n",
    "        return 1\n",
    "    return bino_coeff(n, k-1)*((n+1-k)/k)\n",
    "\n",
    "# function to return a specific row in pascal triangle\n",
    "# given row index n \n",
    "def get_pascal_tri_row(n):\n",
    "    pascal_tri_row = [1]\n",
    "    if (n == 0):\n",
    "        return pascal_tri_row\n",
    "    \n",
    "    for k in range(1, n+1):\n",
    "        col_val = int(bino_coeff(n, k))\n",
    "        pascal_tri_row.append(col_val)\n",
    "    return pascal_tri_row"
   ]
  },
  {
   "cell_type": "markdown",
   "id": "89c17871-32c8-4791-828c-3b6a8f9de517",
   "metadata": {},
   "source": [
    "b."
   ]
  },
  {
   "cell_type": "code",
   "execution_count": 18,
   "id": "c531dd8c-4466-49fb-83e5-4961e7512a5e",
   "metadata": {},
   "outputs": [
    {
     "name": "stdout",
     "output_type": "stream",
     "text": [
      "               [1]\n",
      "              [1, 1]\n",
      "             [1, 2, 1]\n",
      "            [1, 3, 3, 1]\n",
      "           [1, 4, 6, 4, 1]\n",
      "          [1, 5, 10, 10, 5, 1]\n",
      "         [1, 6, 15, 20, 15, 6, 1]\n",
      "        [1, 7, 21, 35, 35, 21, 7, 1]\n",
      "       [1, 8, 28, 56, 70, 56, 28, 8, 1]\n",
      "      [1, 9, 36, 84, 126, 126, 84, 36, 9, 1]\n",
      "     [1, 10, 45, 120, 210, 252, 210, 120, 45, 10, 1]\n",
      "    [1, 11, 55, 165, 330, 461, 461, 329, 164, 54, 10, 0]\n",
      "   [1, 12, 66, 220, 495, 792, 924, 792, 495, 220, 66, 12, 1]\n",
      "  [1, 13, 78, 286, 715, 1287, 1716, 1716, 1287, 715, 286, 78, 13, 1]\n",
      " [1, 14, 91, 364, 1001, 2002, 3003, 3432, 3003, 2002, 1001, 364, 91, 14, 1]\n"
     ]
    }
   ],
   "source": [
    "# helper function to produce multiple white space\n",
    "def multi_white_spa(n):\n",
    "    wht_spa = \"\"\n",
    "    for i in range(n):\n",
    "        wht_spa += \" \"\n",
    "    return wht_spa\n",
    "  \n",
    "# function to print out first n row of pascal triangle \n",
    "def prin_fir_n_pascal_row(n):\n",
    "    for i in range(n):\n",
    "        wht_spa = multi_white_spa(n - 1 - i)\n",
    "        print(wht_spa, get_pascal_tri_row(i))\n",
    "\n",
    "prin_fir_n_pascal_row(15)\n",
    "        "
   ]
  },
  {
   "cell_type": "markdown",
   "id": "a5601eda-51ff-4b64-9a6a-fe4e4f4dcb75",
   "metadata": {},
   "source": [
    "# Question 3 - Statistics 101"
   ]
  },
  {
   "cell_type": "markdown",
   "id": "610e7a1e-8f09-490f-aefe-ba6cd0636e68",
   "metadata": {},
   "source": [
    "a."
   ]
  },
  {
   "cell_type": "code",
   "execution_count": 2,
   "id": "40fc8ce0-0993-416c-9b76-60971306b85c",
   "metadata": {},
   "outputs": [],
   "source": [
    "import numpy as np\n",
    "from scipy import stats\n",
    "\n",
    "# function to give point and interval estimate of \n",
    "def mean_CI_esti(data, CI, ci_format = 'θ̂[XX%CI:(θ̂L,θ̂U)]'):\n",
    "    try:\n",
    "        np_arr = np.array(data)\n",
    "        est = np.mean(np_arr)\n",
    "        level = CI\n",
    "        z_val = 1/(stats.norm.cdf(1/2 + level/200))\n",
    "        std_err = np.std(np_arr, ddof=1) / np.sqrt(np.size(np_arr))\n",
    "        upr = est + z_val*std_err\n",
    "        lwr = est - z_val*std_err\n",
    "        dict_CI = {'est':est, 'lwr':lwr, 'upr':upr, 'level':level}\n",
    "        if (ci_format == None): \n",
    "            return dict_CI\n",
    "        else:\n",
    "            return (\"{est}[{level}%CI : ({lwr}, {upr})]\".format_map(dict_CI))\n",
    "    except:\n",
    "        print(\"Input object is not coercable to 1d Numpy array using np.array().\")\n",
    "        return '\\n'"
   ]
  },
  {
   "cell_type": "markdown",
   "id": "4daf8d8b-c799-4b11-ac2a-d034e0ae65ea",
   "metadata": {},
   "source": [
    "b."
   ]
  },
  {
   "cell_type": "code",
   "execution_count": 3,
   "id": "b3dd0516-d3f5-475e-9c09-7654cbe0a308",
   "metadata": {},
   "outputs": [],
   "source": [
    "# helper function to count number of success in a binomial experiment\n",
    "def bino_succ_cont(np_arr):\n",
    "    num_succ = 0\n",
    "    for val in np_arr:\n",
    "            if (val == 1):\n",
    "                num_succ += 1\n",
    "    return num_succ"
   ]
  },
  {
   "cell_type": "code",
   "execution_count": 4,
   "id": "de8db506-d934-4a3b-8683-4bf24853ff5f",
   "metadata": {},
   "outputs": [],
   "source": [
    "# function giving different confidence interval based on different methods\n",
    "\n",
    "def binomial_conf_intval(data, CI, method, ci_format = 'θ̂[XX%CI:(θ̂L,θ̂U)]'):\n",
    "        try:\n",
    "            assert (method == \"Normal approximation\" or \n",
    "                   method == \"Clopper-Pearson interval\" or \n",
    "                   method == \"Jeffrey’s interval\" or \n",
    "                   method == \"Agresti-Coull interval\" or \n",
    "                   method == \"Standard Estimate\")\n",
    "            np_arr = np.array(data)\n",
    "            sample_size = np.size(np_arr)\n",
    "            num_succ = bino_succ_cont(np_arr)\n",
    "            sample_proportion = num_succ/sample_size\n",
    "            level = CI\n",
    "            z_val = 1/(stats.norm.cdf(1/2 + level/200))\n",
    "            \n",
    "            if (method == \"Standard Estimate\"):\n",
    "                return(mean_CI_esti(np_arr, level, ci_format))\n",
    "                \n",
    "            if (method == \"Normal approximation\"):\n",
    "                try:\n",
    "                    assert (num_succ > 12 and sample_size - num_succ > 12)\n",
    "                    est = sample_proportion\n",
    "                    lwr = est - z_val*np.sqrt(est*(1 - est)/sample_size)\n",
    "                    upr = est + z_val*np.sqrt(est*(1 - est)/sample_size)\n",
    "                    dict_CI = {'est':est, 'lwr':lwr, 'upr':upr, 'level':level}\n",
    "                    if (ci_format == None): \n",
    "                        return dict_CI\n",
    "                    else:\n",
    "                        return (\"{est}[{level}%CI : ({lwr}, {upr})]\".format_map(dict_CI))\n",
    "                    \n",
    "                except:\n",
    "                    print('Condition to apply Normal approximation is not satisfied!')\n",
    "                    print('Number of success and number of failure should be both bigger than 12.')\n",
    "                    \n",
    "            if (method == \"Clopper-Pearson interval\"):\n",
    "                alpha = 1 - level/100\n",
    "                lwr = stats.beta.ppf(alpha/2, num_succ, sample_size - num_succ + 1)\n",
    "                upr = stats.beta.ppf(1 - alpha/2, num_succ + 1, sample_size - num_succ)\n",
    "                est = (lwr + upr)/2\n",
    "                dict_CI = {'est':est, 'lwr':lwr, 'upr':upr, 'level':level}\n",
    "                if (ci_format == None):\n",
    "                    return dict_CI\n",
    "                else:\n",
    "                    return (\"{est}[{level}%CI : ({lwr}, {upr})]\".format_map(dict_CI))\n",
    "                \n",
    "            if (method == \"Jeffrey’s interval\"):\n",
    "                alpha = 1 - level/100\n",
    "                est = sample_proportion\n",
    "                lwr = stats.beta.ppf(alpha/2, num_succ + 1/2, sample_size - num_succ + 1/2)\n",
    "                upr = stats.beta.ppf(1 - alpha/2, num_succ + 1/2, sample_size - num_succ + 1/2)\n",
    "                if (num_succ == 0):\n",
    "                    lwr = 0 \n",
    "                if (num_succ == sample_size):\n",
    "                    upr = 1\n",
    "                dict_CI = {'est':est, 'lwr':lwr, 'upr':upr, 'level':level}\n",
    "                if (ci_format == None):\n",
    "                    return dict_CI\n",
    "                else:\n",
    "                    return (\"{est}[{level}%CI : ({lwr}, {upr})]\".format_map(dict_CI))\n",
    "                \n",
    "                \n",
    "            if (method == \"Agresti-Coull interval\"):\n",
    "                n_head = sample_size + pow(z_val, 2)\n",
    "                p_head = (num_succ + pow(z_val, 2)/2)/n_head\n",
    "                est = p_head\n",
    "                lwr = p_head - z_val*pow(p_head*(1 - p_head)/n_head, 1/2)\n",
    "                upr = p_head + z_val*pow(p_head*(1 - p_head)/n_head, 1/2)\n",
    "                dict_CI = {'est':est, 'lwr':lwr, 'upr':upr, 'level':level}\n",
    "                if (ci_format == None):\n",
    "                    return dict_CI\n",
    "                else:\n",
    "                    return (\"{est}[{level}%CI : ({lwr}, {upr})]\".format_map(dict_CI))\n",
    "        \n",
    "        except:\n",
    "            print(\"Please make sure input data is coercable to 1d Numpy array using np.array().\")\n",
    "            print(\"Please make sure use one of following methods as the 4th parameter:\")\n",
    "            print(\"\\tStandard Estimate, Normal approximation, Clopper-Pearson interval, Jeffrey’s interval, Agresti-Coull interval\")\n",
    "                "
   ]
  },
  {
   "cell_type": "markdown",
   "id": "ba5582c7-740b-4954-afdd-cf60f0b0a11a",
   "metadata": {},
   "source": [
    "c."
   ]
  },
  {
   "cell_type": "code",
   "execution_count": 5,
   "id": "ac604b77-0d90-439c-bf29-089166903cf9",
   "metadata": {},
   "outputs": [
    {
     "name": "stdout",
     "output_type": "stream",
     "text": [
      "╒══════════════════════════╤═══════════════════════════════════════════════════════════════════════╤══════════════════╕\n",
      "│ Methods                  │ Confidence Interval                                                   │   Interval Width │\n",
      "╞══════════════════════════╪═══════════════════════════════════════════════════════════════════════╪══════════════════╡\n",
      "│ Standard Estimate        │ 0.4666666666666667[90%CI : (0.4028722567182078, 0.5304610766151255)]  │           0.1276 │\n",
      "├──────────────────────────┼───────────────────────────────────────────────────────────────────────┼──────────────────┤\n",
      "│                          │ 0.4666666666666667[95%CI : (0.40335161969431255, 0.5299817136390208)] │           0.1266 │\n",
      "├──────────────────────────┼───────────────────────────────────────────────────────────────────────┼──────────────────┤\n",
      "│                          │ 0.4666666666666667[99%CI : (0.4037218036900052, 0.5296115296433281)]  │           0.1259 │\n",
      "├──────────────────────────┼───────────────────────────────────────────────────────────────────────┼──────────────────┤\n",
      "│ Normal approximation     │ 0.4666666666666667[90%CI : (0.40322766009606725, 0.5301056732372661)] │           0.1269 │\n",
      "├──────────────────────────┼───────────────────────────────────────────────────────────────────────┼──────────────────┤\n",
      "│                          │ 0.4666666666666667[95%CI : (0.4037043525055648, 0.5296289808277685)]  │           0.1259 │\n",
      "├──────────────────────────┼───────────────────────────────────────────────────────────────────────┼──────────────────┤\n",
      "│                          │ 0.4666666666666667[99%CI : (0.40407247417882824, 0.5292608591545052)] │           0.1252 │\n",
      "├──────────────────────────┼───────────────────────────────────────────────────────────────────────┼──────────────────┤\n",
      "│ Clopper-Pearson interval │ 0.4675102651312991[90%CI : (0.37647051856845454, 0.5585500116941438)] │           0.1821 │\n",
      "├──────────────────────────┼───────────────────────────────────────────────────────────────────────┼──────────────────┤\n",
      "│                          │ 0.4677941669339379[95%CI : (0.36071567861279175, 0.574872655255084)]  │           0.2142 │\n",
      "├──────────────────────────┼───────────────────────────────────────────────────────────────────────┼──────────────────┤\n",
      "│                          │ 0.4684770501164578[99%CI : (0.33056902381113423, 0.6063850764217813)] │           0.2758 │\n",
      "├──────────────────────────┼───────────────────────────────────────────────────────────────────────┼──────────────────┤\n",
      "│ Jeffrey’s interval       │ 0.4666666666666667[90%CI : (0.38182773607734916, 0.5530668666023708)] │           0.1712 │\n",
      "├──────────────────────────┼───────────────────────────────────────────────────────────────────────┼──────────────────┤\n",
      "│                          │ 0.4666666666666667[95%CI : (0.3660149306034983, 0.5694242476723477)]  │           0.2034 │\n",
      "├──────────────────────────┼───────────────────────────────────────────────────────────────────────┼──────────────────┤\n",
      "│                          │ 0.4666666666666667[99%CI : (0.3357342966089931, 0.6010266542571796)]  │           0.2653 │\n",
      "├──────────────────────────┼───────────────────────────────────────────────────────────────────────┼──────────────────┤\n",
      "│ Agresti-Coull interval   │ 0.4671970863823028[90%CI : (0.40426040849648504, 0.5301337642681205)] │           0.1259 │\n",
      "├──────────────────────────┼───────────────────────────────────────────────────────────────────────┼──────────────────┤\n",
      "│                          │ 0.4671892694938567[95%CI : (0.40471813171635584, 0.5296604072713575)] │           0.1249 │\n",
      "├──────────────────────────┼───────────────────────────────────────────────────────────────────────┼──────────────────┤\n",
      "│                          │ 0.4671832707882318[99%CI : (0.40507175496505016, 0.5292947866114134)] │           0.1242 │\n",
      "╘══════════════════════════╧═══════════════════════════════════════════════════════════════════════╧══════════════════╛\n"
     ]
    }
   ],
   "source": [
    "# Create a 1d Numpy array with 42 ones and 48 zeros. \n",
    "# Construct a nicely formatted table comparing 90, 95, and 99% confidence intervals using each of the methods above (including part a) on this data. \n",
    "# Choose the number of decimals to display carefully to emphasize differences. \n",
    "# For each confidence level, which method produces the interval with the smallest width\n",
    "\n",
    "from tabulate import tabulate\n",
    "data_arr = np.ones(90)\n",
    "data_arr[:48] = 0.0\n",
    "np.random.shuffle(data_arr)\n",
    "head = [\"Methods\", \"Confidence Interval\", \"Interval Width\"]\n",
    "methods_lst = [\"Standard Estimate\", \"\", \"\", \"Normal approximation\", \"\", \"\", \n",
    "               \"Clopper-Pearson interval\", \"\", \"\", \"Jeffrey’s interval\", \"\", \"\", \n",
    "               \"Agresti-Coull interval\", \"\", \"\"]\n",
    "given_ci_lst = [90, 95, 99]\n",
    "ci_lst = []\n",
    "interval_wid_lst = [] \n",
    "\n",
    "for method in methods_lst:\n",
    "    if (method == \"\"):\n",
    "        continue\n",
    "    else:\n",
    "        for CI in given_ci_lst:\n",
    "            ci_lst.append(binomial_conf_intval(data_arr, CI, method))\n",
    "            bino_coeff_ci_dict = binomial_conf_intval(data_arr, CI, method, None)\n",
    "            interval_wid = round((bino_coeff_ci_dict['upr'] - bino_coeff_ci_dict['lwr']), 4)\n",
    "            interval_wid_lst.append(interval_wid)\n",
    "        \n",
    "summary_dict = {'Methods':methods_lst, 'Confidence Interval':ci_lst, 'Interval Width':interval_wid_lst}\n",
    "\n",
    "print(tabulate(summary_dict, headers=head, tablefmt=\"fancy_grid\"))"
   ]
  },
  {
   "cell_type": "markdown",
   "id": "703db083-9a27-4817-bf0b-e5d5ded77dd4",
   "metadata": {},
   "source": [
    "##### I round the width of each confidence interval to 4 decimals \n",
    "##### From the table, we can find:     \n",
    "##### For **_90%_** confidence level, **Agresti-Coull interval** produces the smallest interval width\n",
    "##### For **_95%_** confidence level, **Agresti-Coull interval** produces the smallest interval width\n",
    "##### For **_99%_** confidence level, **Agresti-Coull interval** produces the smallest interval width"
   ]
  }
 ],
 "metadata": {
  "kernelspec": {
   "display_name": "Python 3",
   "language": "python",
   "name": "python3"
  },
  "language_info": {
   "codemirror_mode": {
    "name": "ipython",
    "version": 3
   },
   "file_extension": ".py",
   "mimetype": "text/x-python",
   "name": "python",
   "nbconvert_exporter": "python",
   "pygments_lexer": "ipython3",
   "version": "3.8.5"
  }
 },
 "nbformat": 4,
 "nbformat_minor": 5
}
